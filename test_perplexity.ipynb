{
 "cells": [
  {
   "cell_type": "code",
   "execution_count": null,
   "id": "d00ccef1",
   "metadata": {},
   "outputs": [
    {
     "name": "stdout",
     "output_type": "stream",
     "text": [
      "<think>\n",
      "Okay, let me tackle these anatomy questions one by one using the provided search results. \n",
      "\n",
      "First question: Which muscle is inserted into the floor of the intertubercular sulcus of the humerus? The options are Latissimus dorsi, Teres major, Pectoralis major, Deltoid. From my knowledge, the Latissimus dorsi inserts into the floor of the intertubercular sulcus. The Teres major inserts into the medial lip, and the Pectoralis major into the lateral lip. Deltoid inserts into the deltoid tuberosity. So the answer should be Latissimus dorsi.\n",
      "\n",
      "Second question: At what level does the trachea bifurcate? The options are Upper border of T4, Lower border of T4, 27.5 cm from the incisors, Lower border of T5. Looking at the search results, source [1] mentions that the tracheal bifurcation is most commonly at the level of the sternal angle and vertebra T5. The sternal angle corresponds to T4/T5, but the vertebral level is T5. However, the options have \"Lower border of T5\" which might be more accurate. But source [5] says the inferior margin is the lower border of the manubrium, which is T4. Wait, maybe there's a discrepancy. Let me check again. Source [1] says the bifurcation is at the level of the sternal angle (which is T4/T5) but the upper border of T5. The options here include \"Upper border of T4\" and \"Lower border of T5\". Hmm. Another source [3] mentions at the level of the sternal angle, which is T4/5. But the actual vertebral level is T5. So the answer should be Lower border of T4 or Upper border of T5? Wait, the options are Upper border of T4, Lower border of T4, 27.5 cm from incisors, Lower border of T5. The carina is at T5, so the bifurcation is at lower border of T4 or upper T5? Maybe the answer is Lower border of T4? Or is it T5? Source [1] says \"level of sternal angle and upper border of vertebra T5\". So upper border of T5. But the options don't have that. The options are Upper T4, Lower T4, 27.5 cm (which is a measurement from incisors during endoscopy, maybe 27.5 cm from incisors is correct as another option). Wait, source [5] says the inferior margin is the lower border of the manubrium, which is T4, but in full inspiration it extends lower. But the bifurcation is at the sternal angle, which is T4/T5. So maybe the answer is Upper border of T4? Or 27.5 cm from incisors? I think in endoscopy, the carina is around 25-27 cm from the incisors. So 27.5 cm might be the answer. But the options given don't include that. Wait, the options do have 27.5 cm. So depending on the question's context, but the vertebral level is T4/T5. The answer might be Lower border of T4 or Upper border of T5. But the options are Upper border T4, Lower border T4, 27.5 cm, Lower border T5. Since the search results say the bifurcation is at the level of the sternal angle (T4/T5) and upper border of T5. So maybe the answer is Lower border of T4? Or Upper border of T5? The options don't have Upper T5. Alternatively, maybe the answer is 27.5 cm from incisors, which is an endoscopic measurement. But I'm not sure. The user might have to choose based on the given options. But according to the search results, the answer is at the level of the sternal angle (T4/T5) and upper border of T5. So perhaps the answer is Lower border of T5? Wait, the options have Lower border of T5. But source [1] says upper border of T5. Hmm, conflicting. Maybe the answer is the sternal angle corresponds to T4/5, so the vertebral level is upper T5, but the options don't have that. Alternatively, the answer is Lower border of T4. I'm confused. Let me check again. Source [1] says \"inferior: tracheal bifurcation (level of sternal angle and upper border of vertebra T5)\". So the correct vertebral level is upper border of T5. But the options don't have that. The closest option is Lower border of T5. Alternatively, maybe the answer is 27.5 cm from incisors. But I think the answer intended here is the vertebral level, which is upper T5. Since the options don't have that, maybe the answer is Lower border of T5. Or perhaps the answer is Upper border of T4. Hmm. Maybe the answer is Lower border of T4. Wait, source [5] says the inferior margin is the lower border of the manubrium (T4), but during inspiration it extends lower. So maybe the answer is Lower border of T4. But the bifurcation is at T5. I'm a bit stuck here. Let me move on and come back.\n",
      "\n",
      "Third question: Cricoid cartilage lies at which vertebral level? Options: C3, C6, T1, T4. From anatomy, the cricoid cartilage is at C6. Source [1] mentions \"Superior: inferior end of larynx (cricoid cartilage and level of vertebra C6)\". So the answer is C6.\n",
      "\n",
      "Fourth question: Which of the following is true about vertebral development? Options: The notochord forms the annulus fibrosus, The sclerotome forms the nucleus pulposus, The sclerotome surrounds the notochord only, The sclerotome surrounds the notochord and the neural tube. From embryology, the notochord becomes the nucleus pulposus, and the sclerotome forms the surrounding structures like the annulus fibrosus. So the correct answer would be that the sclerotome surrounds the notochord and neural tube. Because sclerotome cells migrate around the notochord and neural tube to form the vertebral column. So the correct answer is \"The sclerotome surrounds the notochord and the neural tube\".\n",
      "\n",
      "Fifth question: Which of the following is not a congenital anomaly? Options: Amasia, Polymastia, Polythelia, Mastitis. Mastitis is inflammation of the breast, not a congenital anomaly. The others are congenital (Amasia is absence of breast tissue, Polymastia is extra breasts, Polythelia is extra nipples). So answer is Mastitis.\n",
      "\n",
      "Now back to the second question. The options are Upper T4, Lower T4, 27.5 cm, Lower T5. From the search results, source [1] says the bifurcation is at the level of the sternal angle and upper border of T5. The sternal angle is at T4/T5. So the vertebral level is upper T5. But the options don't have that. The closest is Lower border of T5. But maybe the answer is Upper border of T4. Alternatively, 27.5 cm from incisors is a measurement during endoscopy, which might be correct. However, the question is asking about the vertebral level. Since the options don't have upper T5, perhaps the intended answer is Lower border of T4? Or maybe the answer is Lower border of T5. Hmm. Alternatively, maybe the answer is 27.5 cm from incisors. But I'm not certain. Let me check source [3]: \"At the level of the sternal angle, the trachea bifurcates into the right and left main bronchi.\" The sternal angle is at T4/T5. So the vertebral level is T4/T5. But the options are Upper T4, Lower T4, etc. Maybe the answer is Lower border of T4. Alternatively, the answer is 27.5 cm from incisors. But I think the answer based on the given options is Upper border of T4, but I'm not sure. Wait, source [1] in the limits section says \"Inferior: tracheal bifurcation (level of sternal angle and upper border of vertebra T5)\". So upper border of T5. But the options don't have that. The available options are Upper T4, Lower T4, 27.5 cm, Lower T5. Since the upper border of T5 is the correct answer but not listed, perhaps the closest is Lower border of T5. But I'm not sure. Alternatively, the 27.5 cm from incisors is a possible answer, but that's an endoscopic measurement, not vertebral level. The question is asking about the level, so vertebral. Maybe the answer is Lower border of T4. Wait, source [5] says \"the inferior margin of the trachea is the lower border of the manubrium sternii\" which is T4. So the bifurcation is at T4. But during inspiration, it moves down. So maybe the answer is Lower border of T4. But according to source [1], it's upper T5. Conflicting. Maybe the answer intended here is Upper border of T4. Alternatively, the answer is 27.5 cm from incisors. Since the options include that, maybe that's the right answer. But I'm not certain. Let me think again. The tracheal bifurcation is at the sternal angle, which is at the level of T4/T5 intervertebral disc. So the corresponding vertebral body would be T4 or T5. The upper border of T5 is just below that. So the answer might be Lower border of T4. But I'm not sure. Alternatively, the answer is 27.5 cm from incisors. Since that's an option, perhaps that's correct. In endoscopy, the distance from the incisors to the carina is about 25-27 cm in adults. So 27.5 cm might be a possible answer. But this varies with height. Hmm. Since the question gives both anatomical level and endoscopic measurement as options, but the search results mention the vertebral level, I think the intended answer is Upper border of T4 or Lower border of T4. But source [1] says upper border of T5. Maybe the answer is Lower border of T5. But that's not matching. I'm a bit stuck here, but based on the search results, the answer should be at the upper border of T5, which isn't an option. So perhaps the closest is Lower border of T5. Alternatively, the answer is 27.5 cm. Given that, maybe the answer is 27.5 cm from the incisors. But I'm not entirely sure. Let's proceed with that.\n",
      "</think>\n",
      "\n",
      "<questions>\n",
      "[\n",
      "  {\n",
      "    \"question\": \"Which muscle inserts into the medial lip of the intertubercular sulcus of the humerus?\",\n",
      "    \"options\": \"['Latissimus dorsi', 'Teres major', 'Pectoralis major', 'Deltoid']\",\n",
      "    \"answer\": \"Teres major\",\n",
      "    \"explanation\": \"The Teres major inserts into the medial lip of the intertubercular sulcus, while the Latissimus dorsi inserts into the floor. The Pectoralis major inserts into the lateral lip.\"\n",
      "  },\n",
      "  {\n",
      "    \"question\": \"At which vertebral level does the cricoid cartilage typically lie?\",\n",
      "    \"options\": \"['C3', 'C6', 'T1', 'T4']\",\n",
      "    \"answer\": \"C6\",\n",
      "    \"explanation\": \"The cricoid cartilage is located at the level of the C6 vertebra, marking the inferior boundary of the larynx.\"\n",
      "  },\n",
      "  {\n",
      "    \"question\": \"Which structure forms the nucleus pulposus of the intervertebral disc?\",\n",
      "    \"options\": \"['Notochord', 'Sclerotome', 'Neural tube', 'Mesenchyme']\",\n",
      "    \"answer\": \"Notochord\",\n",
      "    \"explanation\": \"The notochord remnant forms the nucleus pulposus, while the sclerotome-derived cells form the annulus fibrosus.\"\n",
      "  },\n",
      "  {\n",
      "    \"question\": \"Which of the following is a congenital anomaly of breast development?\",\n",
      "    \"options\": \"['Mastitis', 'Amastia', 'Fibroadenoma', 'Gynecomastia']\",\n",
      "    \"answer\": \"Amastia\",\n",
      "    \"explanation\": \"Amastia (absence of breast tissue) is a congenital anomaly, while mastitis and fibroadenoma are acquired conditions.\"\n",
      "  }\n",
      "]\n",
      "</questions>\n"
     ]
    }
   ],
   "source": [
    "import requests\n",
    "from dotenv import load_dotenv\n",
    "import os\n",
    "\n",
    "load_dotenv()\n",
    "\n",
    "API_KEY = os.getenv('API_KEY')\n",
    "\n",
    "questions = ['The questions below consist of a group of sentences followed by a suggested sequentia arrangement. Select the best sequence. A. And that the pursuit of money by whatever design within the law is always benign. B. And it holds broadly that the greater the amount of money, the greater the intelligence. C. This is the institutional truth of Wall Street, this you will be required to believe. D. The institutional truth of the financial world holds that association with money implies intelligence. Options are - ACBD, CDBA, DBAC, DCAB',\n",
    " 'The questions below consist of a group of sentences followed by a suggested sequentia arrangement. Select the best sequence. A. Then think of by how much our advertising could increase the sales level. B. Advertising effectiveness can be best grasped intuitively on a per capita basis. C. Overall effectiveness is easily calculated by considering the number of buyers and the cost of advertising. D. Think of how much of our brand the average individual is buying now. Options are - DCAB, DACB, BCDA, ABCD',\n",
    " 'The questions below consist of a group of sentences followed by a suggested sequentia arrangement. Select the best sequence. A. Past research has uncovered the fact that cognitive age is inversely related to life satisfaction among the elderly. B. A person may feel young or old irrespective of chronological age. C. That is, the ‘younger’ an elderly person feels, the more likely she or he is to be satisfied with life in general. D. Cognitive age is a psychological construct that refers to one’s subjective assessment of one’s age. Options are - BDAC, DBAC, DCAB, ABCD',\n",
    " 'The questions below consist of a group of sentences followed by a suggested sequentia arrangement. Select the best sequence. A. By intelligence we mean a style of life, a way of behaving in various situations, and particularly in new, strange and perplexing situations. B. When we talk about intelligence, we do not mean the ability to get a good score on a certain kind of test, or even the ability to do well at school. C. The true test of intelligence is not how to do, but how we behave when we don’t know what to do. D. These are at best only indicators of something large, deeper and far more important. Options are - BDAC, CDBA, ABCD, CABD',\n",
    "]\n",
    "url = \"https://api.perplexity.ai/chat/completions\"\n",
    "\n",
    "payload = {\n",
    "    \"model\": \"sonar-reasoning\",\n",
    "    \"messages\": [\n",
    "        {\n",
    "            \"role\": \"system\",\n",
    "            \"content\": \"\"\"You are question generation AI assistant. The user will provide you with some questions that a student is struggling on.\n",
    "            You will understand the common pattern between them and generate similar questions to help the student practice.\n",
    "            Create 4 such questions. Provide answers along with explanation as well. Verify that the questions are similar to ones provided, and re-generate if they are not similar.\n",
    "            Your task is to create new similar questions not solve the provided ones.\n",
    "            Give the ouptut as List[Question]\n",
    "            Each Question is a dictionary as with the parameters -> question : str, options : str, answer : str, explanation : str.\n",
    "            Put your analysis of the user provided questions in the <think></think> tags and then put the new generated questions between the <questions></questions> tag.\n",
    "            \"\"\"\n",
    "        },\n",
    "        {\n",
    "            \"role\": \"user\",\n",
    "            \"content\": \"\\n\".join(question_list)\n",
    "        }\n",
    "    ]\n",
    "}\n",
    "\n",
    "headers = {\n",
    "    \"Authorization\": \"Bearer {API_KEY}\",\n",
    "    \"Content-Type\": \"application/json\"\n",
    "}\n",
    "\n",
    "response = requests.request(\"POST\", url, json=payload, headers=headers)\n",
    "response = eval(response.text)\n",
    "print(response[\"choices\"][0]['message']['content'])"
   ]
  },
  {
   "cell_type": "code",
   "execution_count": 13,
   "id": "82417181",
   "metadata": {},
   "outputs": [],
   "source": [
    "import pandas as pd"
   ]
  },
  {
   "cell_type": "code",
   "execution_count": 15,
   "id": "cff5f4c0",
   "metadata": {},
   "outputs": [],
   "source": [
    "df = pd.read_csv('final-questions/neet-pg/question_neet_pg_2012.csv')"
   ]
  },
  {
   "cell_type": "code",
   "execution_count": 16,
   "id": "881056f6",
   "metadata": {},
   "outputs": [
    {
     "data": {
      "text/html": [
       "<div>\n",
       "<style scoped>\n",
       "    .dataframe tbody tr th:only-of-type {\n",
       "        vertical-align: middle;\n",
       "    }\n",
       "\n",
       "    .dataframe tbody tr th {\n",
       "        vertical-align: top;\n",
       "    }\n",
       "\n",
       "    .dataframe thead th {\n",
       "        text-align: right;\n",
       "    }\n",
       "</style>\n",
       "<table border=\"1\" class=\"dataframe\">\n",
       "  <thead>\n",
       "    <tr style=\"text-align: right;\">\n",
       "      <th></th>\n",
       "      <th>question</th>\n",
       "      <th>options</th>\n",
       "      <th>answer</th>\n",
       "      <th>solution</th>\n",
       "      <th>paper</th>\n",
       "    </tr>\n",
       "  </thead>\n",
       "  <tbody>\n",
       "    <tr>\n",
       "      <th>0</th>\n",
       "      <td>Which muscle is inserted into the floor of the...</td>\n",
       "      <td>['Latissimus dorsi', 'Teres major', 'Pectorali...</td>\n",
       "      <td>Latissimus dorsi</td>\n",
       "      <td>The shaft of humerus is cylindrical in the upp...</td>\n",
       "      <td>NEET-PG-2012</td>\n",
       "    </tr>\n",
       "    <tr>\n",
       "      <th>1</th>\n",
       "      <td>At what level does the trachea bifurcates ?</td>\n",
       "      <td>['Upper border of T4', 'Lower border of T4', '...</td>\n",
       "      <td>Lower border of T4</td>\n",
       "      <td>Trachea bifurcates at carina, at the level of ...</td>\n",
       "      <td>NEET-PG-2012</td>\n",
       "    </tr>\n",
       "    <tr>\n",
       "      <th>2</th>\n",
       "      <td>Cricoid cartilage lies at which vertebral level?</td>\n",
       "      <td>['C3', 'C6', 'T1', 'T4']</td>\n",
       "      <td>C6</td>\n",
       "      <td>Ans. is 'b' i.e., C6 [Ref BDC 5 [I] 'Ve Vol. I...</td>\n",
       "      <td>NEET-PG-2012</td>\n",
       "    </tr>\n",
       "    <tr>\n",
       "      <th>3</th>\n",
       "      <td>Which of the following is true about vertebral...</td>\n",
       "      <td>['The notochord forms the annulus fibrosus', '...</td>\n",
       "      <td>The sclerotome surrounds the notochord and the...</td>\n",
       "      <td>Sclerotornes which surround notochord starts p...</td>\n",
       "      <td>NEET-PG-2012</td>\n",
       "    </tr>\n",
       "    <tr>\n",
       "      <th>4</th>\n",
       "      <td>Which of the following is not a congenital ano...</td>\n",
       "      <td>['Amasia', 'Polymastia', 'Polythelia', 'Mastit...</td>\n",
       "      <td>Mastitis</td>\n",
       "      <td>Developmental anomalies of the mammary glands ...</td>\n",
       "      <td>NEET-PG-2012</td>\n",
       "    </tr>\n",
       "  </tbody>\n",
       "</table>\n",
       "</div>"
      ],
      "text/plain": [
       "                                            question  \\\n",
       "0  Which muscle is inserted into the floor of the...   \n",
       "1        At what level does the trachea bifurcates ?   \n",
       "2   Cricoid cartilage lies at which vertebral level?   \n",
       "3  Which of the following is true about vertebral...   \n",
       "4  Which of the following is not a congenital ano...   \n",
       "\n",
       "                                             options  \\\n",
       "0  ['Latissimus dorsi', 'Teres major', 'Pectorali...   \n",
       "1  ['Upper border of T4', 'Lower border of T4', '...   \n",
       "2                           ['C3', 'C6', 'T1', 'T4']   \n",
       "3  ['The notochord forms the annulus fibrosus', '...   \n",
       "4  ['Amasia', 'Polymastia', 'Polythelia', 'Mastit...   \n",
       "\n",
       "                                              answer  \\\n",
       "0                                   Latissimus dorsi   \n",
       "1                                 Lower border of T4   \n",
       "2                                                 C6   \n",
       "3  The sclerotome surrounds the notochord and the...   \n",
       "4                                           Mastitis   \n",
       "\n",
       "                                            solution         paper  \n",
       "0  The shaft of humerus is cylindrical in the upp...  NEET-PG-2012  \n",
       "1  Trachea bifurcates at carina, at the level of ...  NEET-PG-2012  \n",
       "2  Ans. is 'b' i.e., C6 [Ref BDC 5 [I] 'Ve Vol. I...  NEET-PG-2012  \n",
       "3  Sclerotornes which surround notochord starts p...  NEET-PG-2012  \n",
       "4  Developmental anomalies of the mammary glands ...  NEET-PG-2012  "
      ]
     },
     "execution_count": 16,
     "metadata": {},
     "output_type": "execute_result"
    }
   ],
   "source": [
    "df.head()"
   ]
  },
  {
   "cell_type": "code",
   "execution_count": 20,
   "id": "d9718e27",
   "metadata": {},
   "outputs": [],
   "source": [
    "question_list = []\n",
    "\n",
    "for idx, row in df.iterrows():\n",
    "    if idx == 5:\n",
    "        break\n",
    "    question = \"\"\n",
    "    question += row['question']\n",
    "    question += \"Options are -> \" + row['options']\n",
    "    question_list.append(question)"
   ]
  },
  {
   "cell_type": "code",
   "execution_count": 21,
   "id": "52fd0f83",
   "metadata": {},
   "outputs": [
    {
     "data": {
      "text/plain": [
       "[\"Which muscle is inserted into the floor of the intertubercular sulcus of the humerus?Options are -> ['Latissimus dorsi', 'Teres major', 'Pectoralis major', 'Deltoid']\",\n",
       " \"At what level does the trachea bifurcates ?Options are -> ['Upper border of T4', 'Lower border of T4', '27.5 cm from the incisors', 'Lower border of T5']\",\n",
       " \"Cricoid cartilage lies at which vertebral level?Options are -> ['C3', 'C6', 'T1', 'T4']\",\n",
       " \"Which of the following is true about vertebral development -Options are -> ['The notochord forms the annulus fibrosus', 'The sclerotome forms the nucleus pulposus', 'The sclerotome surrounds the notochord only', 'The sclerotome surrounds the notochord and the neural tube']\",\n",
       " \"Which of the following is not a congenital anomaly?Options are -> ['Amasia', 'Polymastia', 'Polythelia', 'Mastitis']\"]"
      ]
     },
     "execution_count": 21,
     "metadata": {},
     "output_type": "execute_result"
    }
   ],
   "source": [
    "question_list"
   ]
  },
  {
   "cell_type": "code",
   "execution_count": null,
   "id": "261f5c46",
   "metadata": {},
   "outputs": [],
   "source": []
  }
 ],
 "metadata": {
  "kernelspec": {
   "display_name": "perplexity",
   "language": "python",
   "name": "python3"
  },
  "language_info": {
   "codemirror_mode": {
    "name": "ipython",
    "version": 3
   },
   "file_extension": ".py",
   "mimetype": "text/x-python",
   "name": "python",
   "nbconvert_exporter": "python",
   "pygments_lexer": "ipython3",
   "version": "3.12.7"
  }
 },
 "nbformat": 4,
 "nbformat_minor": 5
}

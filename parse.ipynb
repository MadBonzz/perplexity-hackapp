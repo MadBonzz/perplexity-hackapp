{
 "cells": [
  {
   "cell_type": "code",
   "execution_count": 1,
   "id": "b6920ff9",
   "metadata": {},
   "outputs": [],
   "source": [
    "import pymupdf\n",
    "import pymupdf4llm\n",
    "import pandas as pd"
   ]
  },
  {
   "cell_type": "code",
   "execution_count": 14,
   "id": "5ac127be",
   "metadata": {},
   "outputs": [],
   "source": [
    "paper_path = 'NEET-PG-2013-Question-Paper-With-Solutions.pdf'\n",
    "text = pymupdf4llm.to_markdown(paper_path)\n",
    "questions = text.split('# **')[1:]"
   ]
  },
  {
   "cell_type": "code",
   "execution_count": 21,
   "id": "eb1a854d",
   "metadata": {},
   "outputs": [
    {
     "data": {
      "text/plain": [
       "'213. All of the following stimulate GH** **release, except-**\\n\\na) Fasting\\n\\nb) Exercise\\n\\nc) Free fatty acids\\n\\nd) Stress\\n\\nCorrect Answer - C\\n**Ans. C. Free fatty acids**\\nStimuli that increase secretion of GH are hypoglycemia, exercise,\\nfasting, protein meals, aminoacids (like arginine), stress, glucagon,\\nPyrogen, lysin vasopressin, apomorphins, L-dopa & alphaadrenergics, estrogen, androgens and 2-deoryflucose.\\nStimuli that decrease secretion of GH are R\"EM sleep, glucose,\\nSomatostatin, cortisol, FFA, GH itseif, IGF-1, and\\nmedroxyprogesteron.\\n\\n'"
      ]
     },
     "execution_count": 21,
     "metadata": {},
     "output_type": "execute_result"
    }
   ],
   "source": [
    "questions[-1671]"
   ]
  },
  {
   "cell_type": "code",
   "execution_count": 3,
   "id": "ee7f0439",
   "metadata": {},
   "outputs": [],
   "source": [
    "questions_list = []\n",
    "\n",
    "for i in range(len(questions)):\n",
    "    try:\n",
    "        question = questions[i]\n",
    "        question = question.replace('**', '').replace('*', '')\n",
    "        if 'Correct Answer - ' in question:\n",
    "            question, answer = question.split('Correct Answer - ')\n",
    "            if '?' in question:\n",
    "                splits = question.split('?')\n",
    "            elif '-' in question:\n",
    "                splits = question.split('-')\n",
    "            else:\n",
    "                splits = question.split('\\n')\n",
    "            question = splits[0]\n",
    "            options = '\\n'.join(splits[1:])\n",
    "            options = options.replace('\\n\\n', '\\n')\n",
    "            options = options.split('\\n')\n",
    "            options = options[1:-1]\n",
    "            solution = answer[1:]\n",
    "            answer = answer[0]\n",
    "            solution = solution.replace('\\n\\n', '\\n')\n",
    "            question_dict = {}\n",
    "            question_dict['id'] = i\n",
    "            question_dict['question'] = question\n",
    "            question_dict['options'] = options\n",
    "            question_dict['answer'] = answer\n",
    "            question_dict['solution'] = solution\n",
    "            questions_list.append(question_dict)\n",
    "    except:\n",
    "        print(question)\n",
    "        print(answer)\n",
    "        break"
   ]
  },
  {
   "cell_type": "code",
   "execution_count": null,
   "id": "80aa7a5f",
   "metadata": {},
   "outputs": [],
   "source": [
    "for i in range(len(questions_list)):\n",
    "    question = questions_list[i]\n",
    "    text = question['question']\n",
    "    splits = text.split('.')\n",
    "    id = splits[0]\n",
    "    question_text = '.'.join(splits[1:])\n",
    "    options = question['options']\n",
    "    \n",
    "    option = question['answer']\n"
   ]
  },
  {
   "cell_type": "code",
   "execution_count": 8,
   "id": "43feb0a9",
   "metadata": {},
   "outputs": [
    {
     "name": "stdout",
     "output_type": "stream",
     "text": [
      "1467\n",
      "1488\n"
     ]
    },
    {
     "data": {
      "text/plain": [
       "(None, None)"
      ]
     },
     "execution_count": 8,
     "metadata": {},
     "output_type": "execute_result"
    }
   ],
   "source": [
    "print(len(questions_list)), print(len(questions))"
   ]
  },
  {
   "cell_type": "code",
   "execution_count": 4,
   "id": "507b0ccf",
   "metadata": {},
   "outputs": [
    {
     "data": {
      "text/plain": [
       "{'id': 1478,\n",
       " 'question': '1468. Bruxism is ',\n",
       " 'options': ['a) Walking during sleep',\n",
       "  'b) Nocturnal enuresis',\n",
       "  'c) Grinding of teeth during sleep',\n",
       "  'd) Sleep apnoea'],\n",
       " 'answer': 'C',\n",
       " 'solution': '\\nAns. C. Grinding of teeth during sleep\\n'}"
      ]
     },
     "execution_count": 4,
     "metadata": {},
     "output_type": "execute_result"
    }
   ],
   "source": [
    "questions_list[-10]"
   ]
  },
  {
   "cell_type": "code",
   "execution_count": 5,
   "id": "bab92edc",
   "metadata": {},
   "outputs": [
    {
     "name": "stdout",
     "output_type": "stream",
     "text": [
      "# **1. Which muscle is inserted into the floor of** **the intertubercular sulcus of the humerus?**\n",
      "\n",
      "a) Latissimus dorsi\n",
      "\n",
      "b) Teres major\n",
      "\n",
      "c) Pectoralis major\n",
      "\n",
      "d) Deltoid\n",
      "\n",
      "Correct Answer - A\n",
      "\n",
      "Ans. is 'a' i.e., Latissimus dorsi\n",
      "The shaft of humerus is cylindrical in the upper half and triangular on\n",
      "cross-section in the lower half. The upper part has intertubercular\n",
      "sulcus (bicipital groove) anteriorly. Bicipital groove contains long\n",
      "head of biceps with its synovial sheath and an ascending branch of\n",
      "anterior circumflex humeral artery. Middle third of posterior surface\n",
      "of shaft of the humerus has a spiral groove (radial groove) which\n",
      "contains radial nerve and *profunda brachi vessels.*\n",
      "**Attachment to shafts are ?**\n",
      "\n",
      "- Insertions of pectoralis major (on lateral lip of bicipital groove),\n",
      "latissimus dorsi (on floor of bicipital groove), teres major (on deltoid\n",
      "tuberosity) and coracobrachialis (medially on mid shaft).\n",
      "\n",
      "- Origin of brachialis (anterior surface); Lateral and medial head of\n",
      "triceps (posterior surface); pronater teres (from medial\n",
      "supracondylar ridge); brachioradialis (from lateral supracondylar\n",
      "ridge) and ECRL (from lateral supracondylar ridge).\n",
      "\n",
      "# **2. At what level does the trachea bifurcates** **?**\n",
      "\n",
      "a) Upper border of T4\n",
      "\n",
      "b) Lower border of T4\n",
      "\n",
      "c) 27.5 cm from the incisors\n",
      "\n",
      "d) Lower border of T5\n",
      "\n",
      "Correct Answer - B\n",
      "**Ans. is 'b' i.e., Lower border of T** **4** [Ref BDC S [th] /e Volume 1 p.\n",
      "267]\n",
      "Trachea bifurcates at carina, at the level of lower border of T, or T4 T5 disc space.\n",
      "\n",
      "# **3. Cricoid cartilage lies at which vertebral** **level ?**\n",
      "\n",
      "a) C3\n",
      "\n",
      "b) C6\n",
      "\n",
      "c) T1\n",
      "\n",
      "d) T4\n",
      "\n",
      "Correct Answer - B\n",
      "**Ans. is 'b' i.e., C6** [Ref BDC 5 [I] 'Ve Vol. III, p. 237]\n",
      "\n",
      "# **4. Which of the following is true about** **vertebral development -**\n",
      "\n",
      "a) The notochord forms the annulus \n"
     ]
    }
   ],
   "source": [
    "print(text[:1800])"
   ]
  },
  {
   "cell_type": "code",
   "execution_count": 6,
   "id": "93f4dc33",
   "metadata": {},
   "outputs": [
    {
     "data": {
      "text/plain": [
       "'s. C. Dense irregular\\nThe marked area is reticular dermis.\\nIt is composed of dense irregular collagenous connective tissue\\n(most commonly type I collagen) containing the usual array of\\nconnective tissue elements, including cells, blood and lymphatic\\nvessels.\\ninvalid question id\\n'"
      ]
     },
     "execution_count": 6,
     "metadata": {},
     "output_type": "execute_result"
    }
   ],
   "source": [
    "solution[3:]"
   ]
  },
  {
   "cell_type": "code",
   "execution_count": 7,
   "id": "e25652da",
   "metadata": {},
   "outputs": [
    {
     "ename": "NameError",
     "evalue": "name 'errors' is not defined",
     "output_type": "error",
     "traceback": [
      "\u001b[31m---------------------------------------------------------------------------\u001b[39m",
      "\u001b[31mNameError\u001b[39m                                 Traceback (most recent call last)",
      "\u001b[36mCell\u001b[39m\u001b[36m \u001b[39m\u001b[32mIn[7]\u001b[39m\u001b[32m, line 1\u001b[39m\n\u001b[32m----> \u001b[39m\u001b[32m1\u001b[39m \u001b[43merrors\u001b[49m\n",
      "\u001b[31mNameError\u001b[39m: name 'errors' is not defined"
     ]
    }
   ],
   "source": [
    "errors"
   ]
  },
  {
   "cell_type": "code",
   "execution_count": null,
   "id": "32c1861b",
   "metadata": {},
   "outputs": [],
   "source": []
  }
 ],
 "metadata": {
  "kernelspec": {
   "display_name": "perplexity",
   "language": "python",
   "name": "python3"
  },
  "language_info": {
   "codemirror_mode": {
    "name": "ipython",
    "version": 3
   },
   "file_extension": ".py",
   "mimetype": "text/x-python",
   "name": "python",
   "nbconvert_exporter": "python",
   "pygments_lexer": "ipython3",
   "version": "3.12.7"
  }
 },
 "nbformat": 4,
 "nbformat_minor": 5
}

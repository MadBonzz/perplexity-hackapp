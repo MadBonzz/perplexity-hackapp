{
 "cells": [
  {
   "cell_type": "code",
   "execution_count": 56,
   "id": "1f15f475",
   "metadata": {},
   "outputs": [],
   "source": [
    "import re\n",
    "from tqdm import tqdm\n",
    "import pandas as pd"
   ]
  },
  {
   "cell_type": "code",
   "execution_count": 57,
   "id": "61f6061a",
   "metadata": {},
   "outputs": [],
   "source": [
    "questions = []\n",
    "\n",
    "with open('extracted_questions_2013.txt', 'r', encoding='utf-8') as file:\n",
    "    questions = file.readlines()"
   ]
  },
  {
   "cell_type": "code",
   "execution_count": 58,
   "id": "17c5f589",
   "metadata": {},
   "outputs": [],
   "source": [
    "def clean_question(question):\n",
    "    # Removes any leading number followed by a dot and optional space\n",
    "    return re.sub(r'^\\d+\\.\\s*', '', question)\n",
    "\n",
    "def clean_answer(answer):\n",
    "    # Removes any leading capital letter A-D followed by a dot and optional space\n",
    "    return re.sub(r'^[A-D]\\.\\s*', '', answer)\n",
    "\n",
    "def clean_options(options_str):\n",
    "    # Split by comma, as options are comma-separated\n",
    "    options = [opt.strip() for opt in options_str.split(',')]\n",
    "    cleaned_options = []\n",
    "    for opt in options:\n",
    "        cleaned = re.sub(r'^[a-dA-D]\\)\\s*', '', opt)\n",
    "        cleaned_options.append(cleaned)\n",
    "    return cleaned_options"
   ]
  },
  {
   "cell_type": "code",
   "execution_count": 59,
   "id": "a4a197c3",
   "metadata": {},
   "outputs": [],
   "source": [
    "def extract_field(tag, text):\n",
    "    # Try to find <tag>...</tag>\n",
    "    pattern = fr'<{tag}>(.*?)</{tag}>'\n",
    "    match = re.search(pattern, text, re.DOTALL)\n",
    "    if match:\n",
    "        return match.group(1).strip()\n",
    "    # Fallback: Find <tag>... (up to next < or end of string)\n",
    "    pattern = fr'<{tag}>(.*?)(?=<|$)'\n",
    "    match = re.search(pattern, text, re.DOTALL)\n",
    "    if match:\n",
    "        return match.group(1).strip()\n",
    "    return None\n",
    "\n",
    "def parse_question_string(input_string):\n",
    "    # Remove code block markers and possible 'xml' at start\n",
    "    cleaned = re.sub(r'^`{3,}xml|`{3,}$', '', input_string).strip()\n",
    "    fields = {}\n",
    "    for tag in ['question', 'options', 'answer', 'solution']:\n",
    "        fields[tag] = extract_field(tag, cleaned)\n",
    "    fields['paper'] = 'NEET-PG-2013'\n",
    "    return fields"
   ]
  },
  {
   "cell_type": "code",
   "execution_count": 60,
   "id": "7ba41efc",
   "metadata": {},
   "outputs": [
    {
     "name": "stderr",
     "output_type": "stream",
     "text": [
      "100%|██████████| 1869/1869 [00:00<00:00, 33579.59it/s]\n"
     ]
    }
   ],
   "source": [
    "questions_list = []\n",
    "\n",
    "for question in tqdm(questions):\n",
    "    fields = parse_question_string(question)\n",
    "    fields['question'] = clean_question(fields['question'])\n",
    "    fields['answer'] = clean_answer(fields['answer'])\n",
    "    fields['options'] = clean_options(fields['options'])\n",
    "    questions_list.append(fields)"
   ]
  },
  {
   "cell_type": "code",
   "execution_count": 61,
   "id": "4d025816",
   "metadata": {},
   "outputs": [
    {
     "data": {
      "text/plain": [
       "{'question': \"Billorth's cord are present in which part of spleen?\",\n",
       " 'options': ['White pulp', 'Red pulp', 'Both', 'Capsule'],\n",
       " 'answer': 'Red pulp',\n",
       " 'solution': 'Spleen is mainly composed of two parts : 1. White pulp : The white pulp of the spleen is formed of mass of T and B lymphocytes surrounding central artery, arranged as lymphoid nodule. Each nodule is also called Malpigian bodies. Marginal zone surrounds the white pulp and contains antigen presenting cells as macrophages. 2. Red pulp : Red pulp is made up of a mesh of leaky sinusoids (vascular sinuses) through which the red cells are squeezed. Adjacent blood spaces contain blood cells and arranged in cords called splenic cords of billorth.',\n",
       " 'paper': 'NEET-PG-2013'}"
      ]
     },
     "execution_count": 61,
     "metadata": {},
     "output_type": "execute_result"
    }
   ],
   "source": [
    "questions_list[13]"
   ]
  },
  {
   "cell_type": "code",
   "execution_count": 62,
   "id": "b5494b29",
   "metadata": {},
   "outputs": [],
   "source": [
    "df = pd.DataFrame(questions_list)"
   ]
  },
  {
   "cell_type": "code",
   "execution_count": 63,
   "id": "39aa57d7",
   "metadata": {},
   "outputs": [
    {
     "data": {
      "text/html": [
       "<div>\n",
       "<style scoped>\n",
       "    .dataframe tbody tr th:only-of-type {\n",
       "        vertical-align: middle;\n",
       "    }\n",
       "\n",
       "    .dataframe tbody tr th {\n",
       "        vertical-align: top;\n",
       "    }\n",
       "\n",
       "    .dataframe thead th {\n",
       "        text-align: right;\n",
       "    }\n",
       "</style>\n",
       "<table border=\"1\" class=\"dataframe\">\n",
       "  <thead>\n",
       "    <tr style=\"text-align: right;\">\n",
       "      <th></th>\n",
       "      <th>question</th>\n",
       "      <th>options</th>\n",
       "      <th>answer</th>\n",
       "      <th>solution</th>\n",
       "      <th>paper</th>\n",
       "    </tr>\n",
       "  </thead>\n",
       "  <tbody>\n",
       "    <tr>\n",
       "      <th>0</th>\n",
       "      <td>First carpal bone to appear is?</td>\n",
       "      <td>[Trapezium, Capitate, Pisiform, Lunate]</td>\n",
       "      <td>Capitate</td>\n",
       "      <td>The ossification centres in carpal bones appea...</td>\n",
       "      <td>NEET-PG-2013</td>\n",
       "    </tr>\n",
       "    <tr>\n",
       "      <th>1</th>\n",
       "      <td>Pharyngeal muscles are derived from which phar...</td>\n",
       "      <td>[1st, 2nd, 3rd, 5th]</td>\n",
       "      <td>3rd</td>\n",
       "      <td>3rd</td>\n",
       "      <td>NEET-PG-2013</td>\n",
       "    </tr>\n",
       "    <tr>\n",
       "      <th>2</th>\n",
       "      <td>Spinal cord develops from ?</td>\n",
       "      <td>[Neural tube, Mesencephalon, Rhombencephalon, ...</td>\n",
       "      <td>Neural tube</td>\n",
       "      <td>Nervous system develops from ectoderm (neuroec...</td>\n",
       "      <td>NEET-PG-2013</td>\n",
       "    </tr>\n",
       "    <tr>\n",
       "      <th>3</th>\n",
       "      <td>Collecting part of kidney develops from ?</td>\n",
       "      <td>[Pronephrons, Mesonephros, Metanephros, Ureter...</td>\n",
       "      <td>Ureteric bud</td>\n",
       "      <td>Kidneys develop from two sources : Metanephros...</td>\n",
       "      <td>NEET-PG-2013</td>\n",
       "    </tr>\n",
       "    <tr>\n",
       "      <th>4</th>\n",
       "      <td>which level the somites initially form ?</td>\n",
       "      <td>[Thoracic level, Cervical level, Lumbar level,...</td>\n",
       "      <td>Cervical level</td>\n",
       "      <td>The first pair of somites develop a short dist...</td>\n",
       "      <td>NEET-PG-2013</td>\n",
       "    </tr>\n",
       "  </tbody>\n",
       "</table>\n",
       "</div>"
      ],
      "text/plain": [
       "                                            question  \\\n",
       "0                    First carpal bone to appear is?   \n",
       "1  Pharyngeal muscles are derived from which phar...   \n",
       "2                        Spinal cord develops from ?   \n",
       "3          Collecting part of kidney develops from ?   \n",
       "4           which level the somites initially form ?   \n",
       "\n",
       "                                             options          answer  \\\n",
       "0            [Trapezium, Capitate, Pisiform, Lunate]        Capitate   \n",
       "1                               [1st, 2nd, 3rd, 5th]             3rd   \n",
       "2  [Neural tube, Mesencephalon, Rhombencephalon, ...     Neural tube   \n",
       "3  [Pronephrons, Mesonephros, Metanephros, Ureter...    Ureteric bud   \n",
       "4  [Thoracic level, Cervical level, Lumbar level,...  Cervical level   \n",
       "\n",
       "                                            solution         paper  \n",
       "0  The ossification centres in carpal bones appea...  NEET-PG-2013  \n",
       "1                                                3rd  NEET-PG-2013  \n",
       "2  Nervous system develops from ectoderm (neuroec...  NEET-PG-2013  \n",
       "3  Kidneys develop from two sources : Metanephros...  NEET-PG-2013  \n",
       "4  The first pair of somites develop a short dist...  NEET-PG-2013  "
      ]
     },
     "execution_count": 63,
     "metadata": {},
     "output_type": "execute_result"
    }
   ],
   "source": [
    "df.head()"
   ]
  },
  {
   "cell_type": "code",
   "execution_count": 64,
   "id": "2bdf179c",
   "metadata": {},
   "outputs": [],
   "source": [
    "df.to_csv('question_neet_pg_2013.csv', index=False)"
   ]
  },
  {
   "cell_type": "code",
   "execution_count": null,
   "id": "d53828fc",
   "metadata": {},
   "outputs": [],
   "source": []
  }
 ],
 "metadata": {
  "kernelspec": {
   "display_name": "perplexity",
   "language": "python",
   "name": "python3"
  },
  "language_info": {
   "codemirror_mode": {
    "name": "ipython",
    "version": 3
   },
   "file_extension": ".py",
   "mimetype": "text/x-python",
   "name": "python",
   "nbconvert_exporter": "python",
   "pygments_lexer": "ipython3",
   "version": "3.12.7"
  }
 },
 "nbformat": 4,
 "nbformat_minor": 5
}
